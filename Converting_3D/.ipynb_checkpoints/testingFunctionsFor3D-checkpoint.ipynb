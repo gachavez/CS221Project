{
 "cells": [
  {
   "cell_type": "code",
   "execution_count": 61,
   "metadata": {
    "collapsed": false
   },
   "outputs": [],
   "source": [
    "import numpy as np \n",
    "import pandas as pd\n",
    "import matplotlib.pyplot as plt\n",
    "from matplotlib import cm\n",
    "from scipy.interpolate import Rbf\n"
   ]
  },
  {
   "cell_type": "code",
   "execution_count": null,
   "metadata": {
    "collapsed": true
   },
   "outputs": [],
   "source": []
  },
  {
   "cell_type": "code",
   "execution_count": 19,
   "metadata": {
    "collapsed": false
   },
   "outputs": [
    {
     "name": "stdout",
     "output_type": "stream",
     "text": [
      "{'P8-O2': (0.5586765, -0.7689520000000001, -0.034899), 'P3-O1': (-0.426918, -0.8117525, 0.2325505), 'F3-C3': (-0.6321734999999999, 0.336514, 0.597329), 'C3-P3': (-0.6321734999999999, -0.336514, 0.597329), 'P4-O2': (0.426918, -0.8117525, 0.2325505), 'T7-P7': (-0.9039575, -0.2937135, -0.034899), 'P7-O1': (-0.5586765, -0.7689520000000001, -0.034899), 'Fz-Cz': (0.0, 0.35967, 0.847329), 'Fp2-F8': (0.5586765, 0.7689520000000001, -0.034899), 'Fp1-F3': (-0.426918, 0.8117525, 0.2325505), 'Fp2-F4': (0.426918, 0.8117525, 0.2325505), 'Cz-Pz': (0.0, -0.35967, 0.847329), 'F7-T7': (-0.9039575, 0.2937135, -0.034899), 'F4-C4': (0.6321734999999999, 0.336514, 0.597329), 'Fp1-F7': (-0.5586765, 0.7689520000000001, -0.034899), 'C4-P4': (0.6321734999999999, -0.336514, 0.597329)}\n"
     ]
    }
   ],
   "source": [
    "#Project 3D coordinates into 2D coordinates using azimuthal projection\n",
    "\n",
    "#Function reads in coordinates from file, returns dictionary that maps electrode (eg F3-F4 => (.3,.3,.5))\n",
    "#each file line must be \"name X Y Z\" where X, Y, Z are 3D cartesian coordinates of node \n",
    "\n",
    "def loadCoordinates():\n",
    "    fileObject = open(\"/Users/gustavochavez/Documents/GitHub/CS221Project/Converting_3D/coordinates_eeg.txt\")\n",
    "    text = fileObject.readlines()\n",
    "    end = len(text)\n",
    "    currentLine = 0\n",
    "    dictionarySingle = {}\n",
    "    #Go through each line of file, and add entry to dictionary \n",
    "    while (currentLine < end):\n",
    "        line = text[currentLine].split()\n",
    "        \n",
    "        currentLine = currentLine + 1\n",
    "        dictionarySingle[line[0]] = tuple([float(i) for i in line[1:]])\n",
    "    eegDuoList = [\"F4-C4\", \"C3-P3\", \"P7-O1\", \"P8-O2\", \"F7-T7\", \"Fz-Cz\", \"F3-C3\", \"Fp2-F8\", \"Fp2-F4\", \"P3-O1\", \"T7-P7\", \"Cz-Pz\", \"C4-P4\", \"P4-O2\", \"Fp1-F7\", \"Fp1-F3\"]\n",
    "    dictionaryDuo = {}\n",
    "    #for each duo of eeg nodes, find the average between the two points and save in new dictionary\n",
    "    for duo in eegDuoList:\n",
    "        duoArray = duo.split(\"-\")\n",
    "        coordinates1 = dictionarySingle[duoArray[0]]\n",
    "        coordinates2 = dictionarySingle[duoArray[1]]\n",
    "        l = [coordinates1, coordinates2] \n",
    "        #will be p\n",
    "        newCoordinate =  tuple([sum(x)/2 for x in zip(*l)])\n",
    "        dictionaryDuo[duo] = newCoordinate\n",
    "        \n",
    "    return dictionaryDuo \n",
    "d = loadCoordinates()\n",
    "print(d)"
   ]
  },
  {
   "cell_type": "code",
   "execution_count": 41,
   "metadata": {
    "collapsed": false
   },
   "outputs": [],
   "source": [
    "x = []\n",
    "y = []\n",
    "z = [270.00, 77.70, 356.00, 72.50, 294.00, 76.60, 399.00, 116.00, 344.00, 103.00, 301.00, 79.50, 310.00, 97.10, 566.00, 115.00]\n",
    "\n",
    "for k in d:\n",
    "    x.append(d[k][0]) \n",
    "    y.append(d[k][1])\n",
    "ti = np.linspace(-1.0, 1.0, 32)\n",
    "XI, YI = np.meshgrid(ti, ti)\n"
   ]
  },
  {
   "cell_type": "code",
   "execution_count": 42,
   "metadata": {
    "collapsed": false
   },
   "outputs": [],
   "source": [
    "rbf = Rbf(x, y, z, epsilon=2)\n",
    "ZI = rbf(XI, YI)"
   ]
  },
  {
   "cell_type": "code",
   "execution_count": 50,
   "metadata": {
    "collapsed": false
   },
   "outputs": [
    {
     "data": {
      "image/png": "[encoded data removed]",
      "text/plain": [
       "<matplotlib.figure.Figure at 0x115e1eef0>"
      ]
     },
     "metadata": {},
     "output_type": "display_data"
    }
   ],
   "source": [
    "plt.subplot(1, 1, 1)\n",
    "plt.pcolor(XI, YI, ZI, cmap=cm.jet)\n",
    "plt.scatter(x, y, 32, z, cmap=cm.jet)\n",
    "plt.title('RBF interpolation - multiquadrics')\n",
    "plt.xlim(-1, 1)\n",
    "plt.ylim(-1, 1)\n",
    "plt.colorbar()\n",
    "plt.show()"
   ]
  },
  {
   "cell_type": "code",
   "execution_count": 57,
   "metadata": {
    "collapsed": false
   },
   "outputs": [
    {
     "data": {
      "text/plain": [
       "array([[ 2643.67373621,  2362.93638963,  2065.95346595, ...,\n",
       "         -175.28437404,  -444.65222741,  -767.40988167]])"
      ]
     },
     "execution_count": 57,
     "metadata": {},
     "output_type": "execute_result"
    }
   ],
   "source": [
    "ZI.reshape((1,1024))"
   ]
  },
  {
   "cell_type": "markdown",
   "metadata": {},
   "source": [
    "#### Plan \n",
    "\n",
    "1. Load each file into CSV file \n",
    "2. read each line, for each line do RBF on [0,16] and [16,32]\n",
    "3. Save new dataframe with each 1st RBF being [0,1024] and [1024,2048]\n",
    "4. After all done, save as csv file into new directory \n"
   ]
  },
  {
   "cell_type": "code",
   "execution_count": 68,
   "metadata": {
    "collapsed": false
   },
   "outputs": [],
   "source": [
    "#this function takes in CSV file directiory and saves a CSV file where each row \n",
    "# is two 2D EEG representations one for each filter bank \n",
    "def create2Drepresentations(directory,file):\n",
    "    data = np.loadtxt(open(directory + file, \"rb\"), delimiter=\",\")\n",
    "    H,W = data.shape\n",
    "    newData = np.zeros((H,2048))\n",
    "    print(data.shape)\n",
    "    for row in range(0,H):\n",
    "        rbf = Rbf(x,y,data[row,0:16],epsilon=2)\n",
    "        ZI = rbf(XI, YI)\n",
    "        rbf = Rbf(x,y,data[row,16:32],epsilon=2)\n",
    "        ZI2 = rbf(XI,YI)\n",
    "        ZI = ZI.reshape((1,1024))\n",
    "        ZI2 = ZI2.reshape((1,1024))\n",
    "        ZI = np.hstack((ZI,ZI))\n",
    "        newData[row] = ZI\n",
    "    np.savetxt(\"/Users/gustavochavez/Desktop/Data/\" + file,newData,delimiter =\",\")"
   ]
  },
  {
   "cell_type": "code",
   "execution_count": 66,
   "metadata": {
    "collapsed": true
   },
   "outputs": [],
   "source": [
    "data =  np.loadtxt(open(\"/Users/gustavochavez/Downloads/Data.csv\", \"rb\"), delimiter=\",\")"
   ]
  },
  {
   "cell_type": "code",
   "execution_count": 67,
   "metadata": {
    "collapsed": false
   },
   "outputs": [
    {
     "data": {
      "text/plain": [
       "(1800, 2048)"
      ]
     },
     "execution_count": 67,
     "metadata": {},
     "output_type": "execute_result"
    }
   ],
   "source": [
    "data.shape"
   ]
  },
  {
   "cell_type": "code",
   "execution_count": 69,
   "metadata": {
    "collapsed": false
   },
   "outputs": [
    {
     "ename": "TabError",
     "evalue": "inconsistent use of tabs and spaces in indentation (<ipython-input-69-8b0d641807a5>, line 6)",
     "output_type": "error",
     "traceback": [
      "\u001b[0;36m  File \u001b[0;32m\"<ipython-input-69-8b0d641807a5>\"\u001b[0;36m, line \u001b[0;32m6\u001b[0m\n\u001b[0;31m    print(\"Processing \" + file)\u001b[0m\n\u001b[0m                               ^\u001b[0m\n\u001b[0;31mTabError\u001b[0m\u001b[0;31m:\u001b[0m inconsistent use of tabs and spaces in indentation\n"
     ]
    }
   ],
   "source": [
    "#this functions goes through all data to \n",
    "def convertAllData():\n",
    "    directory = \"/Users/gustavochavez/Documents/GitHub/CS221Project/feature_extraction_output/\"\n",
    "    files = [s for s in os.listdir(directory) if \"chb\" in s]\n",
    "    for file in files:\n",
    "        print(\"Processing \" + file)\n",
    "        create2Drepresentations(directory, file)"
   ]
  },
  {
   "cell_type": "code",
   "execution_count": null,
   "metadata": {
    "collapsed": true
   },
   "outputs": [],
   "source": []
  }
 ],
 "metadata": {
  "anaconda-cloud": {},
  "kernelspec": {
   "display_name": "Python [pytorch]",
   "language": "python",
   "name": "Python [pytorch]"
  },
  "language_info": {
   "codemirror_mode": {
    "name": "ipython",
    "version": 3
   },
   "file_extension": ".py",
   "mimetype": "text/x-python",
   "name": "python",
   "nbconvert_exporter": "python",
   "pygments_lexer": "ipython3",
   "version": "3.5.4"
  }
 },
 "nbformat": 4,
 "nbformat_minor": 0
}
