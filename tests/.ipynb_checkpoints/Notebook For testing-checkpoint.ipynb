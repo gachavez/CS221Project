{
 "cells": [
  {
   "cell_type": "code",
   "execution_count": 11,
   "metadata": {
    "collapsed": false
   },
   "outputs": [],
   "source": [
    "import numpy as np\n",
    "import pyedflib\n",
    "import os.path\n",
    "import matplotlib.pyplot as plt\n",
    "\n",
    "#Load: we would like to load EDF files and print out the first data structure \n"
   ]
  },
  {
   "cell_type": "markdown",
   "metadata": {},
   "source": [
    "# Functions to load"
   ]
  },
  {
   "cell_type": "code",
   "execution_count": 3,
   "metadata": {
    "collapsed": false
   },
   "outputs": [],
   "source": [
    "def loadSingleEDF():\n",
    "    print(\"We are loading data found in chb01_01\\n\\n\")\n",
    "    directory = \"/Users/gustavochavez/Documents/GitHub/CS221Project/tests/testData/chb01_01.edf\"\n",
    "    f = pyedflib.EdfReader(directory)\n",
    "    n = f.signals_in_file\n",
    "    print(\"The file has \"+ str(n) +\" signals in file\")\n",
    "    signal_labels = f.getSignalLabels()\n",
    "    print(\"Signal labels are \"+str(signal_labels)+ \"which correspond to channels of EEG\")\n",
    "    sigbufs = np.zeros((n, f.getNSamples()[0]))\n",
    "    for i in np.arange(n):\n",
    "        sigbufs[i, :] = f.readSignal(i)\n",
    "\n",
    "    print(\"the number of signals in each channel is \"+ str(f.getNSamples()[0]))\n",
    "    print(\"sigbufs is \" + str(sigbufs) +\" and has a length of \"+ str(len(sigbufs)))\n",
    "    return sigbufs"
   ]
  },
  {
   "cell_type": "code",
   "execution_count": 4,
   "metadata": {
    "collapsed": false
   },
   "outputs": [
    {
     "name": "stdout",
     "output_type": "stream",
     "text": [
      "We are loading data found in chb01_01\n",
      "\n",
      "\n",
      "The file has 23 signals in file\n",
      "Signal labels are [u'FP1-F7', u'F7-T7', u'T7-P7', u'P7-O1', u'FP1-F3', u'F3-C3', u'C3-P3', u'P3-O1', u'FP2-F4', u'F4-C4', u'C4-P4', u'P4-O2', u'FP2-F8', u'F8-T8', u'T8-P8', u'P8-O2', u'FZ-CZ', u'CZ-PZ', u'P7-T7', u'T7-FT9', u'FT9-FT10', u'FT10-T8', u'T8-P8']which correspond to channels of EEG\n",
      "the number of signals in each channel is 921600\n",
      "sigbufs is [[ -1.45934066e+02   1.95360195e-01   1.95360195e-01 ...,  -1.15262515e+01\n",
      "   -2.93040293e+00   1.93406593e+01]\n",
      " [ -1.04517705e+02   1.95360195e-01   1.95360195e-01 ...,   2.36385836e+01\n",
      "    2.75457875e+01   3.06715507e+01]\n",
      " [ -4.27838828e+01   1.95360195e-01   1.95360195e-01 ...,   4.86446886e+01\n",
      "    4.51282051e+01   3.45787546e+01]\n",
      " ..., \n",
      " [ -2.64713065e+02   1.95360195e-01   5.86080586e-01 ...,   9.76800977e-01\n",
      "   -1.58241758e+01  -2.94993895e+01]\n",
      " [  9.47496947e+01   1.95360195e-01   1.95360195e-01 ...,  -7.22832723e+00\n",
      "   -1.03540904e+01  -1.34798535e+01]\n",
      " [  4.47374847e+01   1.95360195e-01   1.95360195e-01 ...,   1.69963370e+01\n",
      "    2.24664225e+01   2.63736264e+01]] and has a length of 23\n"
     ]
    }
   ],
   "source": [
    "data = loadSingleEDF()"
   ]
  },
  {
   "cell_type": "code",
   "execution_count": 12,
   "metadata": {
    "collapsed": false
   },
   "outputs": [
    {
     "ename": "AttributeError",
     "evalue": "'module' object has no attribute 'plot'",
     "output_type": "error",
     "traceback": [
      "\u001b[0;31m---------------------------------------------------------------------------\u001b[0m",
      "\u001b[0;31mAttributeError\u001b[0m                            Traceback (most recent call last)",
      "\u001b[0;32m<ipython-input-12-02a08dfc800c>\u001b[0m in \u001b[0;36m<module>\u001b[0;34m()\u001b[0m\n\u001b[1;32m      6\u001b[0m \u001b[0mt\u001b[0m \u001b[0;34m=\u001b[0m \u001b[0mnp\u001b[0m\u001b[0;34m.\u001b[0m\u001b[0marange\u001b[0m\u001b[0;34m(\u001b[0m\u001b[0;36m0.0\u001b[0m\u001b[0;34m,\u001b[0m \u001b[0;36m5.0\u001b[0m\u001b[0;34m,\u001b[0m \u001b[0;36m.00390625\u001b[0m\u001b[0;34m)\u001b[0m\u001b[0;34m\u001b[0m\u001b[0m\n\u001b[1;32m      7\u001b[0m \u001b[0ms\u001b[0m \u001b[0;34m=\u001b[0m \u001b[0mchannel_1\u001b[0m\u001b[0;34m\u001b[0m\u001b[0m\n\u001b[0;32m----> 8\u001b[0;31m \u001b[0mplt\u001b[0m\u001b[0;34m.\u001b[0m\u001b[0mplot\u001b[0m\u001b[0;34m(\u001b[0m\u001b[0mt\u001b[0m\u001b[0;34m,\u001b[0m \u001b[0ms\u001b[0m\u001b[0;34m)\u001b[0m\u001b[0;34m\u001b[0m\u001b[0m\n\u001b[0m\u001b[1;32m      9\u001b[0m \u001b[0;34m\u001b[0m\u001b[0m\n\u001b[1;32m     10\u001b[0m \u001b[0mplt\u001b[0m\u001b[0;34m.\u001b[0m\u001b[0mxlabel\u001b[0m\u001b[0;34m(\u001b[0m\u001b[0;34m'time (s)'\u001b[0m\u001b[0;34m)\u001b[0m\u001b[0;34m\u001b[0m\u001b[0m\n",
      "\u001b[0;31mAttributeError\u001b[0m: 'module' object has no attribute 'plot'"
     ]
    }
   ],
   "source": [
    "#want to graph the first 5 seconds of one channel\n",
    "#EEG sampled at 256 hz, so in 5 seconds there are 1280 samples\n",
    "\n",
    "channel_1 = data[0,0:1280]\n",
    "\n",
    "t = np.arange(0.0, 5.0, .00390625)\n",
    "s = channel_1\n",
    "plt.plot(t, s)\n",
    "\n",
    "plt.xlabel('time (s)')\n",
    "plt.ylabel('voltage ')\n",
    "plt.title('First 5 seconds of EEG channel 1 of Pt1')\n",
    "plt.grid(True)\n",
    "\n",
    "plt.show()\n"
   ]
  },
  {
   "cell_type": "code",
   "execution_count": 8,
   "metadata": {
    "collapsed": false
   },
   "outputs": [
    {
     "data": {
      "text/plain": [
       "array([-145.93406593,    0.1953602 ,    0.1953602 , ...,   12.6984127 ,\n",
       "         33.7973138 ,   36.92307692])"
      ]
     },
     "execution_count": 8,
     "metadata": {},
     "output_type": "execute_result"
    }
   ],
   "source": []
  },
  {
   "cell_type": "code",
   "execution_count": null,
   "metadata": {
    "collapsed": true
   },
   "outputs": [],
   "source": []
  }
 ],
 "metadata": {
  "anaconda-cloud": {},
  "kernelspec": {
   "display_name": "Python [Root]",
   "language": "python",
   "name": "Python [Root]"
  },
  "language_info": {
   "codemirror_mode": {
    "name": "ipython",
    "version": 2
   },
   "file_extension": ".py",
   "mimetype": "text/x-python",
   "name": "python",
   "nbconvert_exporter": "python",
   "pygments_lexer": "ipython2",
   "version": "2.7.12"
  }
 },
 "nbformat": 4,
 "nbformat_minor": 0
}
